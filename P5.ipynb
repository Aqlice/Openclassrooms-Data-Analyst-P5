{
 "cells": [
  {
   "attachments": {},
   "cell_type": "markdown",
   "metadata": {},
   "source": [
    "# 1. importation des librairies et preparation des données"
   ]
  },
  {
   "attachments": {},
   "cell_type": "markdown",
   "metadata": {},
   "source": [
    "## 1.1 importation des librairies"
   ]
  },
  {
   "cell_type": "code",
   "execution_count": 1,
   "metadata": {},
   "outputs": [],
   "source": [
    "\n",
    "import pandas as pd\n",
    "import matplotlib.pyplot as plt\n",
    "import seaborn as sns\n",
    "import numpy as np"
   ]
  },
  {
   "cell_type": "code",
   "execution_count": 2,
   "metadata": {},
   "outputs": [],
   "source": [
    "pd.set_option('display.max_columns', None)\n",
    "pd.set_option('display.max_rows', None) "
   ]
  },
  {
   "attachments": {},
   "cell_type": "markdown",
   "metadata": {},
   "source": [
    "## 1.2 importation des dataframes"
   ]
  },
  {
   "cell_type": "code",
   "execution_count": 3,
   "metadata": {},
   "outputs": [],
   "source": [
    "erp = pd.read_csv('../DA-P5/sources/erp.csv', sep=\";\")\n",
    "web = pd.read_csv('../DA-P5/sources/web.csv', sep=\";\")\n",
    "link = pd.read_csv('../DA-P5/sources/liaison.csv', sep=\";\")"
   ]
  },
  {
   "attachments": {},
   "cell_type": "markdown",
   "metadata": {},
   "source": [
    "## 1.3 preparation des dataframes"
   ]
  },
  {
   "cell_type": "code",
   "execution_count": 4,
   "metadata": {},
   "outputs": [
    {
     "name": "stdout",
     "output_type": "stream",
     "text": [
      "le fichier erp possède 825 lignes\n",
      "la colonne product_id posséde 825 valeurs uniques\n",
      "Chaque product_id est donc bien unique et peux servir de clef primaire\n"
     ]
    }
   ],
   "source": [
    "# verification de l'unicité des identifiants\n",
    "print(f'le fichier erp possède {len(erp)} lignes')\n",
    "print(f\"la colonne product_id posséde {len(erp['product_id'].unique())} valeurs uniques\")\n",
    "print(f'Chaque product_id est donc bien unique et peux servir de clef primaire')\n"
   ]
  },
  {
   "cell_type": "code",
   "execution_count": 5,
   "metadata": {},
   "outputs": [
    {
     "name": "stdout",
     "output_type": "stream",
     "text": [
      "le fichier link possède 825 lignes\n",
      "la colonne product_id posséde 825 valeurs uniques\n",
      "Le fichier de liaison posséde autant de lignes que le fichier erp, \n",
      "une liaison devrait donc etre possible, en se basant sur la colonne product_id\n"
     ]
    }
   ],
   "source": [
    "# verification de la table de liaison\n",
    "print(f'le fichier link possède {len(link)} lignes')\n",
    "print(f\"la colonne product_id posséde {len(link['product_id'].unique())} valeurs uniques\")\n",
    "print(f'Le fichier de liaison posséde autant de lignes que le fichier erp, \\n'\n",
    "      f'une liaison devrait donc etre possible, en se basant sur la colonne product_id')"
   ]
  },
  {
   "cell_type": "code",
   "execution_count": 6,
   "metadata": {},
   "outputs": [
    {
     "name": "stdout",
     "output_type": "stream",
     "text": [
      "le nouveau fichier, resultat de la fusion entre le fichier erp et le fichier de liaison possède 825 lignes,\n",
      "soit autant que les fichiers erp et link, la fusion semble donc s'être passée correctement\n",
      "la colonne id_web posséde 735 valeurs uniques, et 91 valeurs manquantes\n"
     ]
    }
   ],
   "source": [
    "# fusion du fichier erp et de la table de liaison, puis preparation pour la fusion avec fichier web\n",
    "\n",
    "temp = pd.merge(erp, link, on='product_id', how='left')\n",
    "print(f'le nouveau fichier, resultat de la fusion entre le fichier erp et le fichier de liaison possède {len(temp)} lignes,\\n'\n",
    "      f\"soit autant que les fichiers erp et link, la fusion semble donc s'être passée correctement\")\n",
    "print(f\"la colonne id_web posséde {len(temp['id_web'].unique())} valeurs uniques, et {len(temp[temp['id_web'].isna()])} valeurs manquantes\")\n",
    "temp = temp.dropna(subset=[\"id_web\"], axis=0)"
   ]
  },
  {
   "cell_type": "code",
   "execution_count": 7,
   "metadata": {},
   "outputs": [
    {
     "name": "stdout",
     "output_type": "stream",
     "text": [
      "le fichier web possède 1513 lignes\n",
      "la colonne id_web possède 715 valeurs uniques\n"
     ]
    },
    {
     "data": {
      "text/html": [
       "<div>\n",
       "<style scoped>\n",
       "    .dataframe tbody tr th:only-of-type {\n",
       "        vertical-align: middle;\n",
       "    }\n",
       "\n",
       "    .dataframe tbody tr th {\n",
       "        vertical-align: top;\n",
       "    }\n",
       "\n",
       "    .dataframe thead th {\n",
       "        text-align: right;\n",
       "    }\n",
       "</style>\n",
       "<table border=\"1\" class=\"dataframe\">\n",
       "  <thead>\n",
       "    <tr style=\"text-align: right;\">\n",
       "      <th></th>\n",
       "      <th>id_web</th>\n",
       "      <th>virtual</th>\n",
       "      <th>downloadable</th>\n",
       "      <th>rating_count</th>\n",
       "      <th>average_rating</th>\n",
       "      <th>total_sales</th>\n",
       "      <th>tax_status</th>\n",
       "      <th>tax_class</th>\n",
       "      <th>post_author</th>\n",
       "      <th>post_date</th>\n",
       "      <th>post_date_gmt</th>\n",
       "      <th>post_content</th>\n",
       "      <th>post_title</th>\n",
       "      <th>post_excerpt</th>\n",
       "      <th>post_status</th>\n",
       "      <th>comment_status</th>\n",
       "      <th>ping_status</th>\n",
       "      <th>post_password</th>\n",
       "      <th>post_name</th>\n",
       "      <th>post_modified</th>\n",
       "      <th>post_modified_gmt</th>\n",
       "      <th>post_content_filtered</th>\n",
       "      <th>post_parent</th>\n",
       "      <th>guid</th>\n",
       "      <th>menu_order</th>\n",
       "      <th>post_type</th>\n",
       "      <th>post_mime_type</th>\n",
       "      <th>comment_count</th>\n",
       "    </tr>\n",
       "  </thead>\n",
       "  <tbody>\n",
       "    <tr>\n",
       "      <th>1399</th>\n",
       "      <td>10014</td>\n",
       "      <td>0</td>\n",
       "      <td>0</td>\n",
       "      <td>0</td>\n",
       "      <td>0.0</td>\n",
       "      <td>0.0</td>\n",
       "      <td>NaN</td>\n",
       "      <td>NaN</td>\n",
       "      <td>2.0</td>\n",
       "      <td>2019-04-04 15:45:23</td>\n",
       "      <td>2019-04-04 13:45:23</td>\n",
       "      <td>NaN</td>\n",
       "      <td>Darnley's London Dry Gin Original</td>\n",
       "      <td>NaN</td>\n",
       "      <td>publish</td>\n",
       "      <td>closed</td>\n",
       "      <td>closed</td>\n",
       "      <td>NaN</td>\n",
       "      <td>darnleys-london-dry-gin-original</td>\n",
       "      <td>2020-08-26 15:55:02</td>\n",
       "      <td>2020-08-26 13:55:02</td>\n",
       "      <td>NaN</td>\n",
       "      <td>0.0</td>\n",
       "      <td>https://www.bottle-neck.fr/wp-content/uploads/...</td>\n",
       "      <td>0.0</td>\n",
       "      <td>attachment</td>\n",
       "      <td>image/jpeg</td>\n",
       "      <td>0.0</td>\n",
       "    </tr>\n",
       "    <tr>\n",
       "      <th>628</th>\n",
       "      <td>10014</td>\n",
       "      <td>0</td>\n",
       "      <td>0</td>\n",
       "      <td>0</td>\n",
       "      <td>0.0</td>\n",
       "      <td>0.0</td>\n",
       "      <td>taxable</td>\n",
       "      <td>NaN</td>\n",
       "      <td>2.0</td>\n",
       "      <td>2019-04-04 15:45:23</td>\n",
       "      <td>2019-04-04 13:45:23</td>\n",
       "      <td>NaN</td>\n",
       "      <td>Darnley's London Dry Gin Original</td>\n",
       "      <td>&lt;span title=\"\"&gt;Un gin léger, floral et aromati...</td>\n",
       "      <td>publish</td>\n",
       "      <td>closed</td>\n",
       "      <td>closed</td>\n",
       "      <td>NaN</td>\n",
       "      <td>darnleys-london-dry-gin-original</td>\n",
       "      <td>2020-08-26 15:55:02</td>\n",
       "      <td>2020-08-26 13:55:02</td>\n",
       "      <td>NaN</td>\n",
       "      <td>0.0</td>\n",
       "      <td>https://www.bottle-neck.fr/?post_type=product&amp;...</td>\n",
       "      <td>0.0</td>\n",
       "      <td>product</td>\n",
       "      <td>NaN</td>\n",
       "      <td>0.0</td>\n",
       "    </tr>\n",
       "    <tr>\n",
       "      <th>255</th>\n",
       "      <td>10459</td>\n",
       "      <td>0</td>\n",
       "      <td>0</td>\n",
       "      <td>0</td>\n",
       "      <td>0.0</td>\n",
       "      <td>0.0</td>\n",
       "      <td>taxable</td>\n",
       "      <td>NaN</td>\n",
       "      <td>2.0</td>\n",
       "      <td>2018-04-13 15:58:19</td>\n",
       "      <td>2018-04-13 13:58:19</td>\n",
       "      <td>NaN</td>\n",
       "      <td>Alphonse Mellot Sancerre Rouge Génération XIX ...</td>\n",
       "      <td>Robe d'un superbe rubis, dense et profond - As...</td>\n",
       "      <td>publish</td>\n",
       "      <td>closed</td>\n",
       "      <td>closed</td>\n",
       "      <td>NaN</td>\n",
       "      <td>alphonse-mellot-sancerre-rouge-generation-xix-...</td>\n",
       "      <td>2020-08-24 14:05:02</td>\n",
       "      <td>2020-08-24 12:05:02</td>\n",
       "      <td>NaN</td>\n",
       "      <td>0.0</td>\n",
       "      <td>https://www.bottle-neck.fr/?post_type=product&amp;...</td>\n",
       "      <td>0.0</td>\n",
       "      <td>product</td>\n",
       "      <td>NaN</td>\n",
       "      <td>0.0</td>\n",
       "    </tr>\n",
       "    <tr>\n",
       "      <th>1046</th>\n",
       "      <td>10459</td>\n",
       "      <td>0</td>\n",
       "      <td>0</td>\n",
       "      <td>0</td>\n",
       "      <td>0.0</td>\n",
       "      <td>0.0</td>\n",
       "      <td>NaN</td>\n",
       "      <td>NaN</td>\n",
       "      <td>2.0</td>\n",
       "      <td>2018-04-13 15:58:19</td>\n",
       "      <td>2018-04-13 13:58:19</td>\n",
       "      <td>NaN</td>\n",
       "      <td>Alphonse Mellot Sancerre Rouge Génération XIX ...</td>\n",
       "      <td>NaN</td>\n",
       "      <td>publish</td>\n",
       "      <td>closed</td>\n",
       "      <td>closed</td>\n",
       "      <td>NaN</td>\n",
       "      <td>alphonse-mellot-sancerre-rouge-generation-xix-...</td>\n",
       "      <td>2020-08-24 14:05:02</td>\n",
       "      <td>2020-08-24 12:05:02</td>\n",
       "      <td>NaN</td>\n",
       "      <td>0.0</td>\n",
       "      <td>https://www.bottle-neck.fr/wp-content/uploads/...</td>\n",
       "      <td>0.0</td>\n",
       "      <td>attachment</td>\n",
       "      <td>image/jpeg</td>\n",
       "      <td>0.0</td>\n",
       "    </tr>\n",
       "    <tr>\n",
       "      <th>1106</th>\n",
       "      <td>10775</td>\n",
       "      <td>0</td>\n",
       "      <td>0</td>\n",
       "      <td>0</td>\n",
       "      <td>0.0</td>\n",
       "      <td>0.0</td>\n",
       "      <td>NaN</td>\n",
       "      <td>NaN</td>\n",
       "      <td>2.0</td>\n",
       "      <td>2018-04-17 21:28:52</td>\n",
       "      <td>2018-04-17 19:28:52</td>\n",
       "      <td>NaN</td>\n",
       "      <td>Albert Mann Pinot Gris Vendanges Tardives Alte...</td>\n",
       "      <td>NaN</td>\n",
       "      <td>publish</td>\n",
       "      <td>closed</td>\n",
       "      <td>closed</td>\n",
       "      <td>NaN</td>\n",
       "      <td>albert-mann-pinot-gris-vendanges-tardives-alte...</td>\n",
       "      <td>2018-12-22 10:30:02</td>\n",
       "      <td>2018-12-22 09:30:02</td>\n",
       "      <td>NaN</td>\n",
       "      <td>0.0</td>\n",
       "      <td>https://www.bottle-neck.fr/wp-content/uploads/...</td>\n",
       "      <td>0.0</td>\n",
       "      <td>attachment</td>\n",
       "      <td>image/jpeg</td>\n",
       "      <td>0.0</td>\n",
       "    </tr>\n",
       "    <tr>\n",
       "      <th>321</th>\n",
       "      <td>10775</td>\n",
       "      <td>0</td>\n",
       "      <td>0</td>\n",
       "      <td>0</td>\n",
       "      <td>0.0</td>\n",
       "      <td>0.0</td>\n",
       "      <td>taxable</td>\n",
       "      <td>NaN</td>\n",
       "      <td>2.0</td>\n",
       "      <td>2018-04-17 21:28:52</td>\n",
       "      <td>2018-04-17 19:28:52</td>\n",
       "      <td>NaN</td>\n",
       "      <td>Albert Mann Pinot Gris Vendanges Tardives Alte...</td>\n",
       "      <td>Belle bouteille dotée d’une grande complexité ...</td>\n",
       "      <td>publish</td>\n",
       "      <td>closed</td>\n",
       "      <td>closed</td>\n",
       "      <td>NaN</td>\n",
       "      <td>albert-mann-pinot-gris-vendanges-tardives-alte...</td>\n",
       "      <td>2018-12-22 10:30:02</td>\n",
       "      <td>2018-12-22 09:30:02</td>\n",
       "      <td>NaN</td>\n",
       "      <td>0.0</td>\n",
       "      <td>https://www.bottle-neck.fr/?post_type=product&amp;...</td>\n",
       "      <td>0.0</td>\n",
       "      <td>product</td>\n",
       "      <td>NaN</td>\n",
       "      <td>0.0</td>\n",
       "    </tr>\n",
       "    <tr>\n",
       "      <th>1072</th>\n",
       "      <td>10814</td>\n",
       "      <td>0</td>\n",
       "      <td>0</td>\n",
       "      <td>0</td>\n",
       "      <td>0.0</td>\n",
       "      <td>0.0</td>\n",
       "      <td>NaN</td>\n",
       "      <td>NaN</td>\n",
       "      <td>2.0</td>\n",
       "      <td>2018-04-17 10:12:40</td>\n",
       "      <td>2018-04-17 08:12:40</td>\n",
       "      <td>NaN</td>\n",
       "      <td>Thierry Germain Saumur-Champigny Outre Terre 2013</td>\n",
       "      <td>NaN</td>\n",
       "      <td>publish</td>\n",
       "      <td>closed</td>\n",
       "      <td>closed</td>\n",
       "      <td>NaN</td>\n",
       "      <td>thierry-germain-saumur-champigny-outre-terre-2013</td>\n",
       "      <td>2020-08-05 14:35:02</td>\n",
       "      <td>2020-08-05 12:35:02</td>\n",
       "      <td>NaN</td>\n",
       "      <td>0.0</td>\n",
       "      <td>https://www.bottle-neck.fr/wp-content/uploads/...</td>\n",
       "      <td>0.0</td>\n",
       "      <td>attachment</td>\n",
       "      <td>image/jpeg</td>\n",
       "      <td>0.0</td>\n",
       "    </tr>\n",
       "    <tr>\n",
       "      <th>281</th>\n",
       "      <td>10814</td>\n",
       "      <td>0</td>\n",
       "      <td>0</td>\n",
       "      <td>0</td>\n",
       "      <td>0.0</td>\n",
       "      <td>0.0</td>\n",
       "      <td>taxable</td>\n",
       "      <td>NaN</td>\n",
       "      <td>2.0</td>\n",
       "      <td>2018-04-17 10:12:40</td>\n",
       "      <td>2018-04-17 08:12:40</td>\n",
       "      <td>NaN</td>\n",
       "      <td>Thierry Germain Saumur-Champigny Outre Terre 2013</td>\n",
       "      <td>La robe est rouge vif. Le nez est très floral,...</td>\n",
       "      <td>publish</td>\n",
       "      <td>closed</td>\n",
       "      <td>closed</td>\n",
       "      <td>NaN</td>\n",
       "      <td>thierry-germain-saumur-champigny-outre-terre-2013</td>\n",
       "      <td>2020-08-05 14:35:02</td>\n",
       "      <td>2020-08-05 12:35:02</td>\n",
       "      <td>NaN</td>\n",
       "      <td>0.0</td>\n",
       "      <td>https://www.bottle-neck.fr/?post_type=product&amp;...</td>\n",
       "      <td>0.0</td>\n",
       "      <td>product</td>\n",
       "      <td>NaN</td>\n",
       "      <td>0.0</td>\n",
       "    </tr>\n",
       "    <tr>\n",
       "      <th>257</th>\n",
       "      <td>11049</td>\n",
       "      <td>0</td>\n",
       "      <td>0</td>\n",
       "      <td>0</td>\n",
       "      <td>0.0</td>\n",
       "      <td>0.0</td>\n",
       "      <td>taxable</td>\n",
       "      <td>NaN</td>\n",
       "      <td>2.0</td>\n",
       "      <td>2018-04-13 16:07:49</td>\n",
       "      <td>2018-04-13 14:07:49</td>\n",
       "      <td>NaN</td>\n",
       "      <td>Alphonse Mellot Sancerre Rouge En Grands Champ...</td>\n",
       "      <td>Superbe robe carmin profond. Un très grand ter...</td>\n",
       "      <td>publish</td>\n",
       "      <td>closed</td>\n",
       "      <td>closed</td>\n",
       "      <td>NaN</td>\n",
       "      <td>alphonse-mellot-sancerre-rouge-en-grands-champ...</td>\n",
       "      <td>2020-01-31 09:30:02</td>\n",
       "      <td>2020-01-31 08:30:02</td>\n",
       "      <td>NaN</td>\n",
       "      <td>0.0</td>\n",
       "      <td>https://www.bottle-neck.fr/?post_type=product&amp;...</td>\n",
       "      <td>0.0</td>\n",
       "      <td>product</td>\n",
       "      <td>NaN</td>\n",
       "      <td>0.0</td>\n",
       "    </tr>\n",
       "    <tr>\n",
       "      <th>1048</th>\n",
       "      <td>11049</td>\n",
       "      <td>0</td>\n",
       "      <td>0</td>\n",
       "      <td>0</td>\n",
       "      <td>0.0</td>\n",
       "      <td>0.0</td>\n",
       "      <td>NaN</td>\n",
       "      <td>NaN</td>\n",
       "      <td>2.0</td>\n",
       "      <td>2018-04-13 16:07:49</td>\n",
       "      <td>2018-04-13 14:07:49</td>\n",
       "      <td>NaN</td>\n",
       "      <td>Alphonse Mellot Sancerre Rouge En Grands Champ...</td>\n",
       "      <td>NaN</td>\n",
       "      <td>publish</td>\n",
       "      <td>closed</td>\n",
       "      <td>closed</td>\n",
       "      <td>NaN</td>\n",
       "      <td>alphonse-mellot-sancerre-rouge-en-grands-champ...</td>\n",
       "      <td>2020-01-31 09:30:02</td>\n",
       "      <td>2020-01-31 08:30:02</td>\n",
       "      <td>NaN</td>\n",
       "      <td>0.0</td>\n",
       "      <td>https://www.bottle-neck.fr/wp-content/uploads/...</td>\n",
       "      <td>0.0</td>\n",
       "      <td>attachment</td>\n",
       "      <td>image/jpeg</td>\n",
       "      <td>0.0</td>\n",
       "    </tr>\n",
       "  </tbody>\n",
       "</table>\n",
       "</div>"
      ],
      "text/plain": [
       "     id_web  virtual  downloadable  rating_count  average_rating  total_sales  \\\n",
       "1399  10014        0             0             0             0.0          0.0   \n",
       "628   10014        0             0             0             0.0          0.0   \n",
       "255   10459        0             0             0             0.0          0.0   \n",
       "1046  10459        0             0             0             0.0          0.0   \n",
       "1106  10775        0             0             0             0.0          0.0   \n",
       "321   10775        0             0             0             0.0          0.0   \n",
       "1072  10814        0             0             0             0.0          0.0   \n",
       "281   10814        0             0             0             0.0          0.0   \n",
       "257   11049        0             0             0             0.0          0.0   \n",
       "1048  11049        0             0             0             0.0          0.0   \n",
       "\n",
       "     tax_status  tax_class  post_author            post_date  \\\n",
       "1399        NaN        NaN          2.0  2019-04-04 15:45:23   \n",
       "628     taxable        NaN          2.0  2019-04-04 15:45:23   \n",
       "255     taxable        NaN          2.0  2018-04-13 15:58:19   \n",
       "1046        NaN        NaN          2.0  2018-04-13 15:58:19   \n",
       "1106        NaN        NaN          2.0  2018-04-17 21:28:52   \n",
       "321     taxable        NaN          2.0  2018-04-17 21:28:52   \n",
       "1072        NaN        NaN          2.0  2018-04-17 10:12:40   \n",
       "281     taxable        NaN          2.0  2018-04-17 10:12:40   \n",
       "257     taxable        NaN          2.0  2018-04-13 16:07:49   \n",
       "1048        NaN        NaN          2.0  2018-04-13 16:07:49   \n",
       "\n",
       "            post_date_gmt  post_content  \\\n",
       "1399  2019-04-04 13:45:23           NaN   \n",
       "628   2019-04-04 13:45:23           NaN   \n",
       "255   2018-04-13 13:58:19           NaN   \n",
       "1046  2018-04-13 13:58:19           NaN   \n",
       "1106  2018-04-17 19:28:52           NaN   \n",
       "321   2018-04-17 19:28:52           NaN   \n",
       "1072  2018-04-17 08:12:40           NaN   \n",
       "281   2018-04-17 08:12:40           NaN   \n",
       "257   2018-04-13 14:07:49           NaN   \n",
       "1048  2018-04-13 14:07:49           NaN   \n",
       "\n",
       "                                             post_title  \\\n",
       "1399                  Darnley's London Dry Gin Original   \n",
       "628                   Darnley's London Dry Gin Original   \n",
       "255   Alphonse Mellot Sancerre Rouge Génération XIX ...   \n",
       "1046  Alphonse Mellot Sancerre Rouge Génération XIX ...   \n",
       "1106  Albert Mann Pinot Gris Vendanges Tardives Alte...   \n",
       "321   Albert Mann Pinot Gris Vendanges Tardives Alte...   \n",
       "1072  Thierry Germain Saumur-Champigny Outre Terre 2013   \n",
       "281   Thierry Germain Saumur-Champigny Outre Terre 2013   \n",
       "257   Alphonse Mellot Sancerre Rouge En Grands Champ...   \n",
       "1048  Alphonse Mellot Sancerre Rouge En Grands Champ...   \n",
       "\n",
       "                                           post_excerpt post_status  \\\n",
       "1399                                                NaN     publish   \n",
       "628   <span title=\"\">Un gin léger, floral et aromati...     publish   \n",
       "255   Robe d'un superbe rubis, dense et profond - As...     publish   \n",
       "1046                                                NaN     publish   \n",
       "1106                                                NaN     publish   \n",
       "321   Belle bouteille dotée d’une grande complexité ...     publish   \n",
       "1072                                                NaN     publish   \n",
       "281   La robe est rouge vif. Le nez est très floral,...     publish   \n",
       "257   Superbe robe carmin profond. Un très grand ter...     publish   \n",
       "1048                                                NaN     publish   \n",
       "\n",
       "     comment_status ping_status  post_password  \\\n",
       "1399         closed      closed            NaN   \n",
       "628          closed      closed            NaN   \n",
       "255          closed      closed            NaN   \n",
       "1046         closed      closed            NaN   \n",
       "1106         closed      closed            NaN   \n",
       "321          closed      closed            NaN   \n",
       "1072         closed      closed            NaN   \n",
       "281          closed      closed            NaN   \n",
       "257          closed      closed            NaN   \n",
       "1048         closed      closed            NaN   \n",
       "\n",
       "                                              post_name        post_modified  \\\n",
       "1399                   darnleys-london-dry-gin-original  2020-08-26 15:55:02   \n",
       "628                    darnleys-london-dry-gin-original  2020-08-26 15:55:02   \n",
       "255   alphonse-mellot-sancerre-rouge-generation-xix-...  2020-08-24 14:05:02   \n",
       "1046  alphonse-mellot-sancerre-rouge-generation-xix-...  2020-08-24 14:05:02   \n",
       "1106  albert-mann-pinot-gris-vendanges-tardives-alte...  2018-12-22 10:30:02   \n",
       "321   albert-mann-pinot-gris-vendanges-tardives-alte...  2018-12-22 10:30:02   \n",
       "1072  thierry-germain-saumur-champigny-outre-terre-2013  2020-08-05 14:35:02   \n",
       "281   thierry-germain-saumur-champigny-outre-terre-2013  2020-08-05 14:35:02   \n",
       "257   alphonse-mellot-sancerre-rouge-en-grands-champ...  2020-01-31 09:30:02   \n",
       "1048  alphonse-mellot-sancerre-rouge-en-grands-champ...  2020-01-31 09:30:02   \n",
       "\n",
       "        post_modified_gmt  post_content_filtered  post_parent  \\\n",
       "1399  2020-08-26 13:55:02                    NaN          0.0   \n",
       "628   2020-08-26 13:55:02                    NaN          0.0   \n",
       "255   2020-08-24 12:05:02                    NaN          0.0   \n",
       "1046  2020-08-24 12:05:02                    NaN          0.0   \n",
       "1106  2018-12-22 09:30:02                    NaN          0.0   \n",
       "321   2018-12-22 09:30:02                    NaN          0.0   \n",
       "1072  2020-08-05 12:35:02                    NaN          0.0   \n",
       "281   2020-08-05 12:35:02                    NaN          0.0   \n",
       "257   2020-01-31 08:30:02                    NaN          0.0   \n",
       "1048  2020-01-31 08:30:02                    NaN          0.0   \n",
       "\n",
       "                                                   guid  menu_order  \\\n",
       "1399  https://www.bottle-neck.fr/wp-content/uploads/...         0.0   \n",
       "628   https://www.bottle-neck.fr/?post_type=product&...         0.0   \n",
       "255   https://www.bottle-neck.fr/?post_type=product&...         0.0   \n",
       "1046  https://www.bottle-neck.fr/wp-content/uploads/...         0.0   \n",
       "1106  https://www.bottle-neck.fr/wp-content/uploads/...         0.0   \n",
       "321   https://www.bottle-neck.fr/?post_type=product&...         0.0   \n",
       "1072  https://www.bottle-neck.fr/wp-content/uploads/...         0.0   \n",
       "281   https://www.bottle-neck.fr/?post_type=product&...         0.0   \n",
       "257   https://www.bottle-neck.fr/?post_type=product&...         0.0   \n",
       "1048  https://www.bottle-neck.fr/wp-content/uploads/...         0.0   \n",
       "\n",
       "       post_type post_mime_type  comment_count  \n",
       "1399  attachment     image/jpeg            0.0  \n",
       "628      product            NaN            0.0  \n",
       "255      product            NaN            0.0  \n",
       "1046  attachment     image/jpeg            0.0  \n",
       "1106  attachment     image/jpeg            0.0  \n",
       "321      product            NaN            0.0  \n",
       "1072  attachment     image/jpeg            0.0  \n",
       "281      product            NaN            0.0  \n",
       "257      product            NaN            0.0  \n",
       "1048  attachment     image/jpeg            0.0  "
      ]
     },
     "metadata": {},
     "output_type": "display_data"
    },
    {
     "name": "stdout",
     "output_type": "stream",
     "text": [
      "Chaque produit apparait 2 fois dans le fichier, une ligne pour le produit, \n",
      "et une ligne pour le meme produit, avec le lien vers la photo\n",
      "On enleve toutes les lignes inutiles\n",
      "Il reste 799 lignes apres supressions des doublons\n",
      "La colonne id_web du fichier web possède 85 valeurs manquantes\n",
      "Il reste 714 lignes apres supressions des valeurs manquantes\n"
     ]
    }
   ],
   "source": [
    "# preparation du fichier web\n",
    "web.rename(columns={'sku':'id_web'}, inplace=True)\n",
    "print(f'le fichier web possède {len(web)} lignes')\n",
    "print(f\"la colonne id_web possède {len(web['id_web'].unique())} valeurs uniques\")\n",
    "web = web.sort_values(by=['id_web'], axis=0)\n",
    "display(web[:10])\n",
    "print(f'Chaque produit apparait 2 fois dans le fichier, une ligne pour le produit, \\n'\n",
    "'et une ligne pour le meme produit, avec le lien vers la photo')\n",
    "web.drop(web.loc[web['post_type']=='attachment'].index, inplace=True)\n",
    "print('On enleve toutes les lignes inutiles')\n",
    "print(f'Il reste {len(web)} lignes apres supressions des doublons')\n",
    "print(f\"La colonne id_web du fichier web possède {len(web[web['id_web'].isna()])} valeurs manquantes\")\n",
    "web = web.dropna(subset=[\"id_web\"], axis=0)\n",
    "print(f'Il reste {len(web)} lignes apres supressions des valeurs manquantes')\n"
   ]
  },
  {
   "cell_type": "code",
   "execution_count": 8,
   "metadata": {},
   "outputs": [
    {
     "name": "stdout",
     "output_type": "stream",
     "text": [
      "Après fusion entre le fichier temporaire (734 lignes) et le fichier web (714 lignes),\n",
      "il nous reste bien 714 lignes\n",
      "La fusion a donc été effectuée avec les données renseignées\n"
     ]
    }
   ],
   "source": [
    "# fusion du fichier temporaire et du fichier web\n",
    "linked = pd.merge(temp, web, on='id_web', how='inner')\n",
    "print(f\"Après fusion entre le fichier temporaire (734 lignes) et le fichier web (714 lignes),\\n\"\n",
    "      f\"il nous reste bien {len(linked)} lignes\\n\"\n",
    "      f\"La fusion a donc été effectuée avec les données renseignées\")"
   ]
  },
  {
   "attachments": {},
   "cell_type": "markdown",
   "metadata": {},
   "source": [
    "# 2. chiffre d'affaires"
   ]
  },
  {
   "attachments": {},
   "cell_type": "markdown",
   "metadata": {},
   "source": [
    "## 2.1 chiffre d'affaires par produit"
   ]
  },
  {
   "cell_type": "code",
   "execution_count": 9,
   "metadata": {},
   "outputs": [
    {
     "name": "stdout",
     "output_type": "stream",
     "text": [
      "En multipliant le prix de chaque produit par son nombre de ventes, on obtient le chiffres d'affaires par produit\n"
     ]
    },
    {
     "data": {
      "text/html": [
       "<div>\n",
       "<style scoped>\n",
       "    .dataframe tbody tr th:only-of-type {\n",
       "        vertical-align: middle;\n",
       "    }\n",
       "\n",
       "    .dataframe tbody tr th {\n",
       "        vertical-align: top;\n",
       "    }\n",
       "\n",
       "    .dataframe thead th {\n",
       "        text-align: right;\n",
       "    }\n",
       "</style>\n",
       "<table border=\"1\" class=\"dataframe\">\n",
       "  <thead>\n",
       "    <tr style=\"text-align: right;\">\n",
       "      <th></th>\n",
       "      <th>price</th>\n",
       "      <th>total_sales</th>\n",
       "      <th>chiffre d'affaires</th>\n",
       "    </tr>\n",
       "  </thead>\n",
       "  <tbody>\n",
       "    <tr>\n",
       "      <th>0</th>\n",
       "      <td>24.2</td>\n",
       "      <td>6.0</td>\n",
       "      <td>145.2</td>\n",
       "    </tr>\n",
       "    <tr>\n",
       "      <th>1</th>\n",
       "      <td>34.3</td>\n",
       "      <td>0.0</td>\n",
       "      <td>0.0</td>\n",
       "    </tr>\n",
       "    <tr>\n",
       "      <th>2</th>\n",
       "      <td>20.8</td>\n",
       "      <td>0.0</td>\n",
       "      <td>0.0</td>\n",
       "    </tr>\n",
       "    <tr>\n",
       "      <th>3</th>\n",
       "      <td>14.1</td>\n",
       "      <td>3.0</td>\n",
       "      <td>42.3</td>\n",
       "    </tr>\n",
       "    <tr>\n",
       "      <th>4</th>\n",
       "      <td>46.0</td>\n",
       "      <td>0.0</td>\n",
       "      <td>0.0</td>\n",
       "    </tr>\n",
       "    <tr>\n",
       "      <th>5</th>\n",
       "      <td>34.3</td>\n",
       "      <td>0.0</td>\n",
       "      <td>0.0</td>\n",
       "    </tr>\n",
       "    <tr>\n",
       "      <th>6</th>\n",
       "      <td>32.7</td>\n",
       "      <td>0.0</td>\n",
       "      <td>0.0</td>\n",
       "    </tr>\n",
       "    <tr>\n",
       "      <th>7</th>\n",
       "      <td>31.2</td>\n",
       "      <td>7.0</td>\n",
       "      <td>218.4</td>\n",
       "    </tr>\n",
       "    <tr>\n",
       "      <th>8</th>\n",
       "      <td>60.0</td>\n",
       "      <td>3.0</td>\n",
       "      <td>180.0</td>\n",
       "    </tr>\n",
       "    <tr>\n",
       "      <th>9</th>\n",
       "      <td>42.6</td>\n",
       "      <td>14.0</td>\n",
       "      <td>596.4</td>\n",
       "    </tr>\n",
       "  </tbody>\n",
       "</table>\n",
       "</div>"
      ],
      "text/plain": [
       "   price  total_sales  chiffre d'affaires\n",
       "0   24.2          6.0               145.2\n",
       "1   34.3          0.0                 0.0\n",
       "2   20.8          0.0                 0.0\n",
       "3   14.1          3.0                42.3\n",
       "4   46.0          0.0                 0.0\n",
       "5   34.3          0.0                 0.0\n",
       "6   32.7          0.0                 0.0\n",
       "7   31.2          7.0               218.4\n",
       "8   60.0          3.0               180.0\n",
       "9   42.6         14.0               596.4"
      ]
     },
     "metadata": {},
     "output_type": "display_data"
    }
   ],
   "source": [
    "# ajout d'une colonne chiffre d'affaires par produit\n",
    "\n",
    "linked['price'] = linked['price'].astype(float)\n",
    "linked[\"chiffre d'affaires\"] = linked['total_sales'] * linked['price']\n",
    "print(f\"En multipliant le prix de chaque produit par son nombre de ventes, on obtient le chiffres d'affaires par produit\")\n",
    "display(linked[['price', 'total_sales', \"chiffre d'affaires\"]][:10])"
   ]
  },
  {
   "attachments": {},
   "cell_type": "markdown",
   "metadata": {},
   "source": [
    "## 2.2 chiffres d'affaires total"
   ]
  },
  {
   "cell_type": "code",
   "execution_count": 10,
   "metadata": {},
   "outputs": [
    {
     "name": "stdout",
     "output_type": "stream",
     "text": [
      "En additionnant toutes les valeurs de chiffre d'affaires par produit, on obtient le chiffre d'affaires total, soit 70568.6 euros\n"
     ]
    }
   ],
   "source": [
    "# chiffres d'affaires des produit en ligne\n",
    "total = linked[\"chiffre d'affaires\"].sum()\n",
    "print(f\"En additionnant toutes les valeurs de chiffre d'affaires par produit, on obtient le chiffre d'affaires total, soit {total} euros\")"
   ]
  },
  {
   "cell_type": "code",
   "execution_count": 11,
   "metadata": {},
   "outputs": [
    {
     "data": {
      "image/png": "[encoded data removed]",
      "text/plain": [
       "<Figure size 432x288 with 1 Axes>"
      ]
     },
     "metadata": {
      "needs_background": "light"
     },
     "output_type": "display_data"
    },
    {
     "data": {
      "image/png": "[encoded data removed]",
      "text/plain": [
       "<Figure size 432x288 with 1 Axes>"
      ]
     },
     "metadata": {
      "needs_background": "light"
     },
     "output_type": "display_data"
    }
   ],
   "source": [
    "# Histogramme      #boxplot\n",
    "linked[\"price\"].hist(density=True)\n",
    "plt.show()\n",
    "\n",
    "# Histogramme plus beau\n",
    "linked[\"price\"].hist(density=True,bins=20)\n",
    "plt.show()\n"
   ]
  },
  {
   "attachments": {},
   "cell_type": "markdown",
   "metadata": {},
   "source": [
    "## 2.3 analyse du prix"
   ]
  },
  {
   "cell_type": "code",
   "execution_count": 12,
   "metadata": {},
   "outputs": [
    {
     "data": {
      "text/html": [
       "<div>\n",
       "<style scoped>\n",
       "    .dataframe tbody tr th:only-of-type {\n",
       "        vertical-align: middle;\n",
       "    }\n",
       "\n",
       "    .dataframe tbody tr th {\n",
       "        vertical-align: top;\n",
       "    }\n",
       "\n",
       "    .dataframe thead th {\n",
       "        text-align: right;\n",
       "    }\n",
       "</style>\n",
       "<table border=\"1\" class=\"dataframe\">\n",
       "  <thead>\n",
       "    <tr style=\"text-align: right;\">\n",
       "      <th></th>\n",
       "      <th>price</th>\n",
       "    </tr>\n",
       "  </thead>\n",
       "  <tbody>\n",
       "    <tr>\n",
       "      <th>count</th>\n",
       "      <td>714.000000</td>\n",
       "    </tr>\n",
       "    <tr>\n",
       "      <th>mean</th>\n",
       "      <td>32.493137</td>\n",
       "    </tr>\n",
       "    <tr>\n",
       "      <th>std</th>\n",
       "      <td>27.810525</td>\n",
       "    </tr>\n",
       "    <tr>\n",
       "      <th>min</th>\n",
       "      <td>5.200000</td>\n",
       "    </tr>\n",
       "    <tr>\n",
       "      <th>25%</th>\n",
       "      <td>14.100000</td>\n",
       "    </tr>\n",
       "    <tr>\n",
       "      <th>50%</th>\n",
       "      <td>23.550000</td>\n",
       "    </tr>\n",
       "    <tr>\n",
       "      <th>75%</th>\n",
       "      <td>42.175000</td>\n",
       "    </tr>\n",
       "    <tr>\n",
       "      <th>max</th>\n",
       "      <td>225.000000</td>\n",
       "    </tr>\n",
       "  </tbody>\n",
       "</table>\n",
       "</div>"
      ],
      "text/plain": [
       "            price\n",
       "count  714.000000\n",
       "mean    32.493137\n",
       "std     27.810525\n",
       "min      5.200000\n",
       "25%     14.100000\n",
       "50%     23.550000\n",
       "75%     42.175000\n",
       "max    225.000000"
      ]
     },
     "execution_count": 12,
     "metadata": {},
     "output_type": "execute_result"
    }
   ],
   "source": [
    "linked[[\"price\"]].describe()"
   ]
  },
  {
   "cell_type": "code",
   "execution_count": 13,
   "metadata": {},
   "outputs": [
    {
     "data": {
      "text/plain": [
       "<matplotlib.legend.Legend at 0x7f9378457550>"
      ]
     },
     "execution_count": 13,
     "metadata": {},
     "output_type": "execute_result"
    },
    {
     "data": {
      "image/png": "[encoded data removed]",
      "text/plain": [
       "<Figure size 432x288 with 1 Axes>"
      ]
     },
     "metadata": {
      "needs_background": "light"
     },
     "output_type": "display_data"
    }
   ],
   "source": [
    "mean =  linked['price'].mean()\n",
    "med =  linked['price'].median()\n",
    "sns.histplot(data = linked[\"price\"], bins=20)\n",
    "plt.axvline(mean, color=\"red\", linestyle=\"--\", label='mean')\n",
    "plt.axvline(med, color=\"black\", linestyle=\":\", label='median')\n",
    "plt.legend()"
   ]
  },
  {
   "cell_type": "code",
   "execution_count": 14,
   "metadata": {},
   "outputs": [
    {
     "data": {
      "text/html": [
       "<div>\n",
       "<style scoped>\n",
       "    .dataframe tbody tr th:only-of-type {\n",
       "        vertical-align: middle;\n",
       "    }\n",
       "\n",
       "    .dataframe tbody tr th {\n",
       "        vertical-align: top;\n",
       "    }\n",
       "\n",
       "    .dataframe thead th {\n",
       "        text-align: right;\n",
       "    }\n",
       "</style>\n",
       "<table border=\"1\" class=\"dataframe\">\n",
       "  <thead>\n",
       "    <tr style=\"text-align: right;\">\n",
       "      <th></th>\n",
       "      <th>price</th>\n",
       "      <th>number</th>\n",
       "      <th>proportion</th>\n",
       "    </tr>\n",
       "  </thead>\n",
       "  <tbody>\n",
       "    <tr>\n",
       "      <th>0</th>\n",
       "      <td>(4.979, 60.15]</td>\n",
       "      <td>634</td>\n",
       "      <td>0.887955</td>\n",
       "    </tr>\n",
       "    <tr>\n",
       "      <th>1</th>\n",
       "      <td>(60.15, 115.1]</td>\n",
       "      <td>66</td>\n",
       "      <td>0.092437</td>\n",
       "    </tr>\n",
       "    <tr>\n",
       "      <th>2</th>\n",
       "      <td>(115.1, 170.05]</td>\n",
       "      <td>9</td>\n",
       "      <td>0.012605</td>\n",
       "    </tr>\n",
       "    <tr>\n",
       "      <th>3</th>\n",
       "      <td>(170.05, 225.0]</td>\n",
       "      <td>5</td>\n",
       "      <td>0.007003</td>\n",
       "    </tr>\n",
       "  </tbody>\n",
       "</table>\n",
       "</div>"
      ],
      "text/plain": [
       "             price  number  proportion\n",
       "0   (4.979, 60.15]     634    0.887955\n",
       "1   (60.15, 115.1]      66    0.092437\n",
       "2  (115.1, 170.05]       9    0.012605\n",
       "3  (170.05, 225.0]       5    0.007003"
      ]
     },
     "metadata": {},
     "output_type": "display_data"
    }
   ],
   "source": [
    "effectifs = linked[\"price\"].value_counts(bins=4)\n",
    "modalites = effectifs.index \n",
    "tab = pd.DataFrame(modalites, columns = [\"price\"])\n",
    "tab[\"number\"] = effectifs.values\n",
    "tab[\"proportion\"] = tab[\"number\"] / len(linked)\n",
    "display(tab)"
   ]
  },
  {
   "cell_type": "code",
   "execution_count": 15,
   "metadata": {},
   "outputs": [
    {
     "data": {
      "text/html": [
       "<div>\n",
       "<style scoped>\n",
       "    .dataframe tbody tr th:only-of-type {\n",
       "        vertical-align: middle;\n",
       "    }\n",
       "\n",
       "    .dataframe tbody tr th {\n",
       "        vertical-align: top;\n",
       "    }\n",
       "\n",
       "    .dataframe thead th {\n",
       "        text-align: right;\n",
       "    }\n",
       "</style>\n",
       "<table border=\"1\" class=\"dataframe\">\n",
       "  <thead>\n",
       "    <tr style=\"text-align: right;\">\n",
       "      <th></th>\n",
       "      <th>price</th>\n",
       "      <th>number</th>\n",
       "      <th>proportion</th>\n",
       "      <th>added_prop</th>\n",
       "    </tr>\n",
       "  </thead>\n",
       "  <tbody>\n",
       "    <tr>\n",
       "      <th>0</th>\n",
       "      <td>(4.979, 60.15]</td>\n",
       "      <td>634</td>\n",
       "      <td>0.887955</td>\n",
       "      <td>0.887955</td>\n",
       "    </tr>\n",
       "    <tr>\n",
       "      <th>1</th>\n",
       "      <td>(60.15, 115.1]</td>\n",
       "      <td>66</td>\n",
       "      <td>0.092437</td>\n",
       "      <td>0.980392</td>\n",
       "    </tr>\n",
       "    <tr>\n",
       "      <th>2</th>\n",
       "      <td>(115.1, 170.05]</td>\n",
       "      <td>9</td>\n",
       "      <td>0.012605</td>\n",
       "      <td>0.992997</td>\n",
       "    </tr>\n",
       "    <tr>\n",
       "      <th>3</th>\n",
       "      <td>(170.05, 225.0]</td>\n",
       "      <td>5</td>\n",
       "      <td>0.007003</td>\n",
       "      <td>1.000000</td>\n",
       "    </tr>\n",
       "  </tbody>\n",
       "</table>\n",
       "</div>"
      ],
      "text/plain": [
       "             price  number  proportion  added_prop\n",
       "0   (4.979, 60.15]     634    0.887955    0.887955\n",
       "1   (60.15, 115.1]      66    0.092437    0.980392\n",
       "2  (115.1, 170.05]       9    0.012605    0.992997\n",
       "3  (170.05, 225.0]       5    0.007003    1.000000"
      ]
     },
     "metadata": {},
     "output_type": "display_data"
    }
   ],
   "source": [
    "tab = tab.sort_values(\"price\") # tri des valeurs de la variable X (croissant)\n",
    "tab[\"added_prop\"] = tab[\"proportion\"].cumsum() #calcul de la frequence cumulée\n",
    "display(tab)"
   ]
  },
  {
   "attachments": {},
   "cell_type": "markdown",
   "metadata": {},
   "source": [
    "## 2.4 Mesure de la tendance centrale"
   ]
  },
  {
   "cell_type": "code",
   "execution_count": 16,
   "metadata": {},
   "outputs": [
    {
     "name": "stdout",
     "output_type": "stream",
     "text": [
      "le mode est la valeur que l'on retrouve le plus souvent dans notre jeu de données.\n",
      "le mode est de 19\n"
     ]
    }
   ],
   "source": [
    "mode = linked[\"price\"].mode()\n",
    "print(f\"le mode est la valeur que l'on retrouve le plus souvent dans notre jeu de données.\\nle mode est de {round(mode[0])}\")"
   ]
  },
  {
   "attachments": {},
   "cell_type": "markdown",
   "metadata": {},
   "source": [
    "## 2.5 Mesures de dispersion"
   ]
  },
  {
   "cell_type": "code",
   "execution_count": 17,
   "metadata": {},
   "outputs": [
    {
     "name": "stdout",
     "output_type": "stream",
     "text": [
      "La variance est la moyenne des ecarts elevés au carré.\n",
      "Ici la variance est donc de 772.\n"
     ]
    }
   ],
   "source": [
    "variance = linked[\"price\"].var(ddof=0)\n",
    "print(f\"La variance est la moyenne des ecarts elevés au carré.\\n\"\n",
    "      f\"Ici la variance est donc de {round(variance)}.\")"
   ]
  },
  {
   "cell_type": "code",
   "execution_count": 18,
   "metadata": {},
   "outputs": [
    {
     "name": "stdout",
     "output_type": "stream",
     "text": [
      "la deviation standard de la colonne 'price' est de 27.8\n"
     ]
    }
   ],
   "source": [
    "# la deviation standard correspond a l'ecart moyen réel entre les données, soit la racine carré de la variance.\n",
    "st_dev= linked['price'].std()\n",
    "print(f\"la deviation standard de la colonne 'price' est de {round(st_dev, 1)}\")"
   ]
  },
  {
   "attachments": {},
   "cell_type": "markdown",
   "metadata": {},
   "source": [
    "L'ecart interquartile est la difference entre le premier quartile et le 3e.  \n",
    "Toutes les valeurs depassant 1.5 fois l'ecart interquartile sont considerées comme aberrantes"
   ]
  },
  {
   "cell_type": "code",
   "execution_count": 19,
   "metadata": {},
   "outputs": [
    {
     "name": "stdout",
     "output_type": "stream",
     "text": [
      "Limite pour les outliers inferieurs:\n",
      " -27.975\n",
      "Les indexs des outliers inferieurs sont:\n",
      "[]\n",
      "Limite pour les outliers superieurs:\n",
      "84.22500000000001\n",
      "Les indexs des outliers superieurs sont:\n",
      "[ 63  65 199 201 205 218 219 221 222 227 380 381 426 431 432 437 438 502\n",
      " 511 553 587 602 603 604 642 647 648 653 654 655 656 657]\n"
     ]
    },
    {
     "data": {
      "text/html": [
       "<div>\n",
       "<style scoped>\n",
       "    .dataframe tbody tr th:only-of-type {\n",
       "        vertical-align: middle;\n",
       "    }\n",
       "\n",
       "    .dataframe tbody tr th {\n",
       "        vertical-align: top;\n",
       "    }\n",
       "\n",
       "    .dataframe thead th {\n",
       "        text-align: right;\n",
       "    }\n",
       "</style>\n",
       "<table border=\"1\" class=\"dataframe\">\n",
       "  <thead>\n",
       "    <tr style=\"text-align: right;\">\n",
       "      <th></th>\n",
       "      <th>price</th>\n",
       "      <th>post_title</th>\n",
       "    </tr>\n",
       "  </thead>\n",
       "  <tbody>\n",
       "    <tr>\n",
       "      <th>63</th>\n",
       "      <td>100.0</td>\n",
       "      <td>Zind-Humbrecht Riesling Grand Cru Rangen De Th...</td>\n",
       "    </tr>\n",
       "    <tr>\n",
       "      <th>65</th>\n",
       "      <td>88.4</td>\n",
       "      <td>Zind-Humbrecht Pinot Gris Grand Cru Rangen De ...</td>\n",
       "    </tr>\n",
       "    <tr>\n",
       "      <th>199</th>\n",
       "      <td>225.0</td>\n",
       "      <td>Champagne Egly-Ouriet Grand Cru Millésimé 2008</td>\n",
       "    </tr>\n",
       "    <tr>\n",
       "      <th>201</th>\n",
       "      <td>126.5</td>\n",
       "      <td>Champagne Egly-Ouriet Grand Cru Blanc de Noirs</td>\n",
       "    </tr>\n",
       "    <tr>\n",
       "      <th>205</th>\n",
       "      <td>85.6</td>\n",
       "      <td>Champagne Larmandier-Bernier Grand Cru Les Che...</td>\n",
       "    </tr>\n",
       "    <tr>\n",
       "      <th>218</th>\n",
       "      <td>176.0</td>\n",
       "      <td>Cognac Frapin VIP XO</td>\n",
       "    </tr>\n",
       "    <tr>\n",
       "      <th>219</th>\n",
       "      <td>108.5</td>\n",
       "      <td>Cognac Frapin Château de Fontpinot XO</td>\n",
       "    </tr>\n",
       "    <tr>\n",
       "      <th>221</th>\n",
       "      <td>157.0</td>\n",
       "      <td>Cognac Frapin Château de Fontpinot 1989 20 Ans...</td>\n",
       "    </tr>\n",
       "    <tr>\n",
       "      <th>222</th>\n",
       "      <td>104.0</td>\n",
       "      <td>Cognac Frapin Cigar Blend</td>\n",
       "    </tr>\n",
       "    <tr>\n",
       "      <th>227</th>\n",
       "      <td>109.6</td>\n",
       "      <td>Château de Meursault Puligny-Montrachet 1er Cr...</td>\n",
       "    </tr>\n",
       "    <tr>\n",
       "      <th>380</th>\n",
       "      <td>102.3</td>\n",
       "      <td>Domaine Des Croix Corton Grand Cru Les Grèves ...</td>\n",
       "    </tr>\n",
       "    <tr>\n",
       "      <th>381</th>\n",
       "      <td>137.0</td>\n",
       "      <td>Domaine Des Croix Corton Charlemagne Grand Cru...</td>\n",
       "    </tr>\n",
       "    <tr>\n",
       "      <th>426</th>\n",
       "      <td>217.5</td>\n",
       "      <td>David Duband Charmes-Chambertin Grand Cru 2014</td>\n",
       "    </tr>\n",
       "    <tr>\n",
       "      <th>431</th>\n",
       "      <td>105.0</td>\n",
       "      <td>Domaine des Comtes Lafon Volnay 1er Cru Santen...</td>\n",
       "    </tr>\n",
       "    <tr>\n",
       "      <th>432</th>\n",
       "      <td>105.0</td>\n",
       "      <td>Domaine des Comtes Lafon Volnay 1er Cru Santen...</td>\n",
       "    </tr>\n",
       "    <tr>\n",
       "      <th>437</th>\n",
       "      <td>112.0</td>\n",
       "      <td>Champagne Agrapart &amp;amp; Fils L'Avizoise Extra...</td>\n",
       "    </tr>\n",
       "    <tr>\n",
       "      <th>438</th>\n",
       "      <td>86.8</td>\n",
       "      <td>Champagne Agrapart &amp;amp; Fils Minéral Extra Br...</td>\n",
       "    </tr>\n",
       "    <tr>\n",
       "      <th>502</th>\n",
       "      <td>92.0</td>\n",
       "      <td>Tempier Bandol Cabassaou 2017</td>\n",
       "    </tr>\n",
       "    <tr>\n",
       "      <th>511</th>\n",
       "      <td>124.8</td>\n",
       "      <td>Domaine Weinbach Gewurztraminer Grand Cru Furs...</td>\n",
       "    </tr>\n",
       "    <tr>\n",
       "      <th>553</th>\n",
       "      <td>175.0</td>\n",
       "      <td>Camille Giroud Clos de Vougeot 2016</td>\n",
       "    </tr>\n",
       "    <tr>\n",
       "      <th>587</th>\n",
       "      <td>191.3</td>\n",
       "      <td>Coteaux Champenois Egly-Ouriet Ambonnay Rouge ...</td>\n",
       "    </tr>\n",
       "    <tr>\n",
       "      <th>602</th>\n",
       "      <td>93.0</td>\n",
       "      <td>Wemyss Malts Single Cask Scotch Whisky Chocola...</td>\n",
       "    </tr>\n",
       "    <tr>\n",
       "      <th>603</th>\n",
       "      <td>122.0</td>\n",
       "      <td>Wemyss Malts Single Cask Scotch Whisky Choc 'n...</td>\n",
       "    </tr>\n",
       "    <tr>\n",
       "      <th>604</th>\n",
       "      <td>114.0</td>\n",
       "      <td>Wemyss Malts Single Cask Scotch Whisky Chai Ca...</td>\n",
       "    </tr>\n",
       "    <tr>\n",
       "      <th>642</th>\n",
       "      <td>135.0</td>\n",
       "      <td>Champagne Gosset Célébris Vintage 2007</td>\n",
       "    </tr>\n",
       "    <tr>\n",
       "      <th>647</th>\n",
       "      <td>105.6</td>\n",
       "      <td>David Duband Chambolle-Musigny 1er Cru Les Sen...</td>\n",
       "    </tr>\n",
       "    <tr>\n",
       "      <th>648</th>\n",
       "      <td>116.4</td>\n",
       "      <td>Domaine Clerget Echezeaux Grand Cru En Orveaux...</td>\n",
       "    </tr>\n",
       "    <tr>\n",
       "      <th>653</th>\n",
       "      <td>115.0</td>\n",
       "      <td>Domaine des Comtes Lafon Volnay 1er Cru Santen...</td>\n",
       "    </tr>\n",
       "    <tr>\n",
       "      <th>654</th>\n",
       "      <td>121.0</td>\n",
       "      <td>Domaine des Comtes Lafon Volnay 1er Cru Santen...</td>\n",
       "    </tr>\n",
       "    <tr>\n",
       "      <th>655</th>\n",
       "      <td>99.0</td>\n",
       "      <td>Domaine des Comtes Lafon Volnay 1er Cru Champa...</td>\n",
       "    </tr>\n",
       "    <tr>\n",
       "      <th>656</th>\n",
       "      <td>115.0</td>\n",
       "      <td>Domaine des Comtes Lafon Volnay 1er Cru Champa...</td>\n",
       "    </tr>\n",
       "    <tr>\n",
       "      <th>657</th>\n",
       "      <td>121.0</td>\n",
       "      <td>Domaine des Comtes Lafon Volnay 1er Cru Champa...</td>\n",
       "    </tr>\n",
       "  </tbody>\n",
       "</table>\n",
       "</div>"
      ],
      "text/plain": [
       "     price                                         post_title\n",
       "63   100.0  Zind-Humbrecht Riesling Grand Cru Rangen De Th...\n",
       "65    88.4  Zind-Humbrecht Pinot Gris Grand Cru Rangen De ...\n",
       "199  225.0     Champagne Egly-Ouriet Grand Cru Millésimé 2008\n",
       "201  126.5     Champagne Egly-Ouriet Grand Cru Blanc de Noirs\n",
       "205   85.6  Champagne Larmandier-Bernier Grand Cru Les Che...\n",
       "218  176.0                               Cognac Frapin VIP XO\n",
       "219  108.5              Cognac Frapin Château de Fontpinot XO\n",
       "221  157.0  Cognac Frapin Château de Fontpinot 1989 20 Ans...\n",
       "222  104.0                          Cognac Frapin Cigar Blend\n",
       "227  109.6  Château de Meursault Puligny-Montrachet 1er Cr...\n",
       "380  102.3  Domaine Des Croix Corton Grand Cru Les Grèves ...\n",
       "381  137.0  Domaine Des Croix Corton Charlemagne Grand Cru...\n",
       "426  217.5     David Duband Charmes-Chambertin Grand Cru 2014\n",
       "431  105.0  Domaine des Comtes Lafon Volnay 1er Cru Santen...\n",
       "432  105.0  Domaine des Comtes Lafon Volnay 1er Cru Santen...\n",
       "437  112.0  Champagne Agrapart &amp; Fils L'Avizoise Extra...\n",
       "438   86.8  Champagne Agrapart &amp; Fils Minéral Extra Br...\n",
       "502   92.0                      Tempier Bandol Cabassaou 2017\n",
       "511  124.8  Domaine Weinbach Gewurztraminer Grand Cru Furs...\n",
       "553  175.0                Camille Giroud Clos de Vougeot 2016\n",
       "587  191.3  Coteaux Champenois Egly-Ouriet Ambonnay Rouge ...\n",
       "602   93.0  Wemyss Malts Single Cask Scotch Whisky Chocola...\n",
       "603  122.0  Wemyss Malts Single Cask Scotch Whisky Choc 'n...\n",
       "604  114.0  Wemyss Malts Single Cask Scotch Whisky Chai Ca...\n",
       "642  135.0             Champagne Gosset Célébris Vintage 2007\n",
       "647  105.6  David Duband Chambolle-Musigny 1er Cru Les Sen...\n",
       "648  116.4  Domaine Clerget Echezeaux Grand Cru En Orveaux...\n",
       "653  115.0  Domaine des Comtes Lafon Volnay 1er Cru Santen...\n",
       "654  121.0  Domaine des Comtes Lafon Volnay 1er Cru Santen...\n",
       "655   99.0  Domaine des Comtes Lafon Volnay 1er Cru Champa...\n",
       "656  115.0  Domaine des Comtes Lafon Volnay 1er Cru Champa...\n",
       "657  121.0  Domaine des Comtes Lafon Volnay 1er Cru Champa..."
      ]
     },
     "metadata": {},
     "output_type": "display_data"
    }
   ],
   "source": [
    "# Detection numerique des outliers: \n",
    "Q1 = linked[\"price\"].quantile(q=0.25, interpolation=\"midpoint\")\n",
    "Q3 = linked[\"price\"].quantile(q=0.75, interpolation=\"midpoint\")\n",
    "Iq = Q3 - Q1\n",
    "\n",
    "Outliers_Inf_limit = Q1-1.5 * Iq\n",
    "Outliers_Sup_limit = Q3+1.5 * Iq\n",
    "\n",
    "Outliers_Inf = linked[\"price\"] < Outliers_Inf_limit\n",
    "Outliers_Sup = linked[\"price\"] > Outliers_Sup_limit\n",
    "\n",
    "print(f\"Limite pour les outliers inferieurs:\\n {Outliers_Inf_limit}\")\n",
    "print(f\"Les indexs des outliers inferieurs sont:\\n{np.where(Outliers_Inf)[0]}\")\n",
    "\n",
    "print(f\"Limite pour les outliers superieurs:\\n{Outliers_Sup_limit}\")\n",
    "print(f\"Les indexs des outliers superieurs sont:\\n{np.where(Outliers_Sup)[0]}\")\n",
    "display(linked.loc[(linked[\"price\"]>84.05), (\"price\",\"post_title\")])\n"
   ]
  },
  {
   "cell_type": "code",
   "execution_count": 20,
   "metadata": {},
   "outputs": [
    {
     "data": {
      "image/png": "[encoded data removed]",
      "text/plain": [
       "<Figure size 432x288 with 1 Axes>"
      ]
     },
     "metadata": {
      "needs_background": "light"
     },
     "output_type": "display_data"
    }
   ],
   "source": [
    "# representation visuelle des outliers\n",
    "\n",
    "linked.boxplot(column=\"price\", vert=False, sym='b+')\n",
    "plt.show()\n"
   ]
  },
  {
   "attachments": {},
   "cell_type": "markdown",
   "metadata": {},
   "source": [
    "## 2.6 mesures de forme"
   ]
  },
  {
   "cell_type": "code",
   "execution_count": 21,
   "metadata": {},
   "outputs": [
    {
     "name": "stdout",
     "output_type": "stream",
     "text": [
      "le coefficient d'asymétrie est de 2.58\n",
      "la valeur etant positive, cela indique que la distribution est decalée a gauche de la mediane\n"
     ]
    }
   ],
   "source": [
    "#le coefficient d'asymetrie correspond à une mesure de l'asymétrie de la distribution d'une variable aléatoire réelle.\n",
    "skewness = linked['price'].skew()\n",
    "print(f\"le coefficient d'asymétrie est de {round(skewness, 2)}\\n\" \n",
    "      f\"la valeur etant positive, cela indique que la distribution est decalée a gauche de la mediane\")"
   ]
  },
  {
   "attachments": {},
   "cell_type": "markdown",
   "metadata": {},
   "source": [
    "# 3. conclusion"
   ]
  },
  {
   "attachments": {},
   "cell_type": "markdown",
   "metadata": {},
   "source": [
    "## 3.1 preparation des données\n",
    "\n",
    "- Renseigner les données manquantes, autant que possible\n",
    "- ne pas inclure de doublons, il n'est pas necessaire d'avoir 2 lignes par produit avec les meme données\n",
    "- nommer correctement les colonnes"
   ]
  },
  {
   "attachments": {},
   "cell_type": "markdown",
   "metadata": {},
   "source": [
    "## 3.2 analyse des données\n",
    "\n",
    "- Les valeurs considerées comme aberrantes d'un point de vue mathematique ne le sont pas compte tenu du contexte\n",
    "- le prix moyen d'une bouteille est de 32 euros\n",
    "- le prix median est de 23,5 euros\n",
    "- 90 % des produits vendus ont un prix inférieur 60 euros.\n",
    "- 98 % des produits ont un prix inférieur a 110 euros."
   ]
  }
 ],
 "metadata": {
  "kernelspec": {
   "display_name": "Python 3.9.5",
   "language": "python",
   "name": "python3"
  },
  "language_info": {
   "codemirror_mode": {
    "name": "ipython",
    "version": 3
   },
   "file_extension": ".py",
   "mimetype": "text/x-python",
   "name": "python",
   "nbconvert_exporter": "python",
   "pygments_lexer": "ipython3",
   "version": "3.9.5"
  },
  "orig_nbformat": 4,
  "vscode": {
   "interpreter": {
    "hash": "bbd57b3249f2d36361df4c807cc468fff1bb108ef2da4c044b972c0084749081"
   }
  }
 },
 "nbformat": 4,
 "nbformat_minor": 2
}
